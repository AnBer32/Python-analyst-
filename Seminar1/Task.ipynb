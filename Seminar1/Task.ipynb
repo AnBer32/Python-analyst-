{
 "cells": [
  {
   "attachments": {},
   "cell_type": "markdown",
   "metadata": {},
   "source": [
    "## Задача 1\n",
    "Оформляйте ноутбук, используя эти советы:\n",
    "\n",
    "Номер задачи - ## заголовок2\n",
    "\n",
    "Номер подзадачи - ### заголовок 3\n",
    "\n",
    "Предоставленные наборы данных оформляйте, как код"
   ]
  },
  {
   "attachments": {},
   "cell_type": "markdown",
   "metadata": {},
   "source": [
    "## Задача 2\n",
    "На складе лежат разные фрукты в разном количестве. Нужно написать функцию, которая на вход принимает любое количество названий фруктов и их количество, а возвращает общее количество фруктов на складе"
   ]
  },
  {
   "cell_type": "code",
   "execution_count": 9,
   "metadata": {},
   "outputs": [
    {
     "name": "stdout",
     "output_type": "stream",
     "text": [
      "Total fructus: 85\n",
      "None\n"
     ]
    }
   ],
   "source": [
    "def fructus(**kwargs):\n",
    "    \n",
    "    total_fructus = sum(kwargs.values())\n",
    "    \n",
    "    return f'Total fructus: {total_fructus}'\n",
    "\n",
    "print(print(fructus(apples=26, pears=18, bananas=41)))\n"
   ]
  },
  {
   "attachments": {},
   "cell_type": "markdown",
   "metadata": {},
   "source": [
    "## Задача 3\n",
    "Дан список с затратами на рекламу. Но в данных есть ошибки, некоторые затраты имеют отрицательную величину. Удалите такие значения из списка и посчитайте суммарные затраты"
   ]
  },
  {
   "cell_type": "code",
   "execution_count": 10,
   "metadata": {},
   "outputs": [
    {
     "data": {
      "text/plain": [
       "[100, 125, -90, 345, 655, -1, 0, 200]"
      ]
     },
     "execution_count": 10,
     "metadata": {},
     "output_type": "execute_result"
    }
   ],
   "source": [
    "[100, 125, -90, 345, 655, -1, 0, 200]"
   ]
  },
  {
   "cell_type": "code",
   "execution_count": 16,
   "metadata": {},
   "outputs": [],
   "source": [
    "def expenses(data: list):\n",
    "    \n",
    "    new_data = []\n",
    "    \n",
    "    for i in data:\n",
    "        if i > 0:\n",
    "            new_data.append(i)\n",
    "            \n",
    "    print(new_data)\n",
    "    print(f'Total expenses: {sum(new_data)}')"
   ]
  },
  {
   "cell_type": "code",
   "execution_count": 17,
   "metadata": {},
   "outputs": [
    {
     "name": "stdout",
     "output_type": "stream",
     "text": [
      "[100, 125, 345, 655, 200]\n",
      "Total expenses: 1425\n"
     ]
    }
   ],
   "source": [
    "data = [100, 125, -90, 345, 655, -1, 0, 200]\n",
    "\n",
    "expenses(data)"
   ]
  },
  {
   "attachments": {},
   "cell_type": "markdown",
   "metadata": {},
   "source": [
    "решение 2"
   ]
  },
  {
   "cell_type": "code",
   "execution_count": 18,
   "metadata": {},
   "outputs": [
    {
     "name": "stdout",
     "output_type": "stream",
     "text": [
      "[100, 125, 345, 655, 200]\n"
     ]
    }
   ],
   "source": [
    "print([i for i in data if i > 0 ])"
   ]
  },
  {
   "cell_type": "code",
   "execution_count": 19,
   "metadata": {},
   "outputs": [
    {
     "name": "stdout",
     "output_type": "stream",
     "text": [
      "Total expenses: 1425\n"
     ]
    }
   ],
   "source": [
    "print(f'Total expenses: {sum([i for i in data if i > 0 ])}')"
   ]
  },
  {
   "attachments": {},
   "cell_type": "markdown",
   "metadata": {},
   "source": [
    "## Зыадача 4\n",
    "Даны два списка.\n",
    "\n",
    "Дата покупки"
   ]
  },
  {
   "cell_type": "code",
   "execution_count": 21,
   "metadata": {},
   "outputs": [
    {
     "data": {
      "text/plain": [
       "['2021-09-14',\n",
       " '2021-12-15',\n",
       " '2021-09-08',\n",
       " '2021-12-05',\n",
       " '2021-10-09',\n",
       " '2021-09-30',\n",
       " '2021-12-22',\n",
       " '2021-11-29',\n",
       " '2021-12-24',\n",
       " '2021-11-26',\n",
       " '2021-10-27',\n",
       " '2021-12-18',\n",
       " '2021-11-09',\n",
       " '2021-11-23',\n",
       " '2021-09-27',\n",
       " '2021-10-02',\n",
       " '2021-12-27',\n",
       " '2021-09-20',\n",
       " '2021-12-13',\n",
       " '2021-11-01',\n",
       " '2021-11-09',\n",
       " '2021-12-06',\n",
       " '2021-12-08',\n",
       " '2021-10-09',\n",
       " '2021-10-31',\n",
       " '2021-09-30',\n",
       " '2021-11-09',\n",
       " '2021-12-13',\n",
       " '2021-10-26',\n",
       " '2021-12-09']"
      ]
     },
     "execution_count": 21,
     "metadata": {},
     "output_type": "execute_result"
    }
   ],
   "source": [
    "['2021-09-14', '2021-12-15', '2021-09-08', '2021-12-05', '2021-10-09', \n",
    " '2021-09-30', '2021-12-22', '2021-11-29', '2021-12-24', '2021-11-26', \n",
    " '2021-10-27', '2021-12-18', '2021-11-09', '2021-11-23', '2021-09-27', \n",
    " '2021-10-02', '2021-12-27', '2021-09-20', '2021-12-13', '2021-11-01', \n",
    " '2021-11-09', '2021-12-06', '2021-12-08', '2021-10-09', '2021-10-31', \n",
    " '2021-09-30',  '2021-11-09', '2021-12-13', '2021-10-26', '2021-12-09']"
   ]
  },
  {
   "attachments": {},
   "cell_type": "markdown",
   "metadata": {},
   "source": [
    "Суммы покупок по датам"
   ]
  },
  {
   "cell_type": "code",
   "execution_count": 23,
   "metadata": {},
   "outputs": [
    {
     "data": {
      "text/plain": [
       "[1270,\n",
       " 8413,\n",
       " 9028,\n",
       " 3703,\n",
       " 5739,\n",
       " 4095,\n",
       " 295,\n",
       " 4944,\n",
       " 5723,\n",
       " 3701,\n",
       " 4471,\n",
       " 651,\n",
       " 7037,\n",
       " 4274,\n",
       " 6275,\n",
       " 4988,\n",
       " 6930,\n",
       " 2971,\n",
       " 6592,\n",
       " 2004,\n",
       " 2822,\n",
       " 519,\n",
       " 3406,\n",
       " 2732,\n",
       " 5015,\n",
       " 2008,\n",
       " 316,\n",
       " 6333,\n",
       " 5700,\n",
       " 2887]"
      ]
     },
     "execution_count": 23,
     "metadata": {},
     "output_type": "execute_result"
    }
   ],
   "source": [
    "[1270, 8413, 9028, 3703, 5739, 4095, 295, 4944, 5723, 3701, \n",
    " 4471, 651, 7037, 4274, 6275, 4988, 6930, 2971, 6592, 2004,\n",
    "  2822, 519, 3406, 2732, 5015, 2008, 316, 6333, 5700, 2887]"
   ]
  },
  {
   "attachments": {},
   "cell_type": "markdown",
   "metadata": {},
   "source": [
    "### Задача 4.1 \n",
    "Найдите, какая выручка у компании в ноябре\n",
    "Используйте list comprehensions"
   ]
  },
  {
   "cell_type": "code",
   "execution_count": 24,
   "metadata": {},
   "outputs": [],
   "source": [
    "date = ['2021-09-14', '2021-12-15', '2021-09-08', '2021-12-05', '2021-10-09', \n",
    "        '2021-09-30', '2021-12-22', '2021-11-29', '2021-12-24', '2021-11-26', \n",
    "        '2021-10-27', '2021-12-18', '2021-11-09', '2021-11-23', '2021-09-27', \n",
    "        '2021-10-02', '2021-12-27', '2021-09-20', '2021-12-13', '2021-11-01', \n",
    "        '2021-11-09', '2021-12-06', '2021-12-08', '2021-10-09', '2021-10-31', \n",
    "        '2021-09-30', '2021-11-09', '2021-12-13', '2021-10-26', '2021-12-09']\n",
    "amount = [1270, 8413, 9028, 3703, 5739, 4095, 295, 4944, 5723, 3701, \n",
    "        4471, 651, 7037, 4274, 6275, 4988, 6930, 2971, 6592, 2004, \n",
    "        2822, 519, 3406, 2732, 5015, 2008, 316, 6333, 5700, 2887]"
   ]
  },
  {
   "cell_type": "code",
   "execution_count": 26,
   "metadata": {},
   "outputs": [
    {
     "name": "stdout",
     "output_type": "stream",
     "text": [
      "[4944, 3701, 7037, 4274, 2004, 2822, 316]\n",
      "Profit: 25098\n"
     ]
    }
   ],
   "source": [
    "def november(data1: list, data2: list) -> list:\n",
    "    \n",
    "    new_data = []\n",
    "    \n",
    "    for i in range(len(data1)-1):\n",
    "        if '-11-' in data1[i]:\n",
    "            new_data.append(data2[i])\n",
    "            \n",
    "    return new_data\n",
    "print(november(date, amount))\n",
    "print(f'Profit: {sum(november(date, amount))}')\n"
   ]
  },
  {
   "attachments": {},
   "cell_type": "markdown",
   "metadata": {},
   "source": [
    "### Задача 4.2\n",
    "Найдите выручку компании в зависимости от месяца Для этого напишите функцию, которая на вход принимает список с датами и список с выручкой, а на выходе словарь, где ключи - это месяцы, а значения - это выручка. Используйте аннотирование типов."
   ]
  },
  {
   "cell_type": "code",
   "execution_count": 32,
   "metadata": {},
   "outputs": [
    {
     "name": "stdout",
     "output_type": "stream",
     "text": [
      "{'09': 25647, '12': 45452, '10': 28645, '11': 25098}\n"
     ]
    }
   ],
   "source": [
    "def profits(data1: list, data2: list) -> dict:\n",
    "    \n",
    "    profits = {}\n",
    "    \n",
    "    for i in range(len(data1)):\n",
    "        \n",
    "        if date[i].split('-')[1] in profits.keys():\n",
    "            profits[date[i].split('-')[1]] += amount[i]\n",
    "        else:\n",
    "            profits[date[i].split('-')[1]] =amount[i]\n",
    "            \n",
    "    return profits\n",
    "\n",
    "print (profits(date, amount))\n"
   ]
  }
 ],
 "metadata": {
  "kernelspec": {
   "display_name": "Python 3",
   "language": "python",
   "name": "python3"
  },
  "language_info": {
   "codemirror_mode": {
    "name": "ipython",
    "version": 3
   },
   "file_extension": ".py",
   "mimetype": "text/x-python",
   "name": "python",
   "nbconvert_exporter": "python",
   "pygments_lexer": "ipython3",
   "version": "3.11.2"
  },
  "orig_nbformat": 4
 },
 "nbformat": 4,
 "nbformat_minor": 2
}
